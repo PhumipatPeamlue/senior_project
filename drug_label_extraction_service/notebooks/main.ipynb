{
 "cells": [
  {
   "cell_type": "markdown",
   "source": [
    "# preprocess function"
   ],
   "metadata": {
    "collapsed": false
   },
   "id": "26173a2ae90c221"
  },
  {
   "cell_type": "code",
   "execution_count": 1,
   "id": "initial_id",
   "metadata": {
    "collapsed": true,
    "ExecuteTime": {
     "end_time": "2023-12-27T07:07:02.378002Z",
     "start_time": "2023-12-27T07:06:50.119471Z"
    }
   },
   "outputs": [],
   "source": [
    "from matplotlib import pyplot as plt\n",
    "import cv2\n",
    "import numpy as np\n",
    "\n",
    "def display(image):\n",
    "    dpi = 80\n",
    "    height, width = image.shape[:2]\n",
    "    scale_factor = 0.2\n",
    "    width_scaled = width * scale_factor\n",
    "    height_scaled = height * scale_factor\n",
    "    \n",
    "    figsize = width_scaled / float(dpi), height_scaled / float(dpi)\n",
    "    fig = plt.figure(figsize=figsize)\n",
    "    ax = fig.add_axes([0, 0, 1, 1])\n",
    "    ax.axis('off')\n",
    "    ax.imshow(image, cmap='gray')\n",
    "    plt.show()\n",
    "    \n",
    "def grayscale_conversion(image):\n",
    "    return cv2.cvtColor(image, cv2.COLOR_BGR2GRAY)\n",
    "\n",
    "def thresholding_conversion(gray_image):\n",
    "    return cv2.threshold(gray_image, 130, 255, cv2.THRESH_BINARY)[1]\n",
    "\n",
    "def find_edges(thresh_image):\n",
    "    t_lower = 100\n",
    "    t_upper = 200\n",
    "    l2_gradient = True\n",
    "    return cv2.Canny(thresh_image, t_lower, t_upper, L2gradient=l2_gradient)\n",
    "\n",
    "def find_angle(edges_image):\n",
    "    lines = cv2.HoughLines(edges_image, 1, np.pi/180, threshold=200)\n",
    "    \n",
    "    angles = []\n",
    "    for line in lines:\n",
    "        rho, theta = line[0]\n",
    "        angle = np.degrees(theta)\n",
    "        angles.append(angle)\n",
    "    \n",
    "    return np.median(angles)\n",
    "\n",
    "def rotate_image(image, angle):\n",
    "    center = tuple(np.array(image.shape[1::-1]) / 2)\n",
    "    rotation_matrix = cv2.getRotationMatrix2D(center, angle-90, 1.0)\n",
    "    return cv2.warpAffine(image, rotation_matrix, image.shape[1::-1], flags=cv2.INTER_LINEAR)\n",
    "\n",
    "def crop_drug_label(rotated_image):\n",
    "    gray = grayscale_conversion(rotated_image)\n",
    "    thresh = thresholding_conversion(gray)\n",
    "    contours, _ = cv2.findContours(thresh, cv2.RETR_EXTERNAL, cv2.CHAIN_APPROX_SIMPLE)\n",
    "    max_contour = max(contours, key=cv2.contourArea)\n",
    "    mask = np.zeros_like(gray)\n",
    "    cv2.drawContours(mask, [max_contour], -1, (255,), thickness=cv2.FILLED)\n",
    "    # display(mask)\n",
    "    res = cv2.bitwise_and(thresh, thresh, mask=mask)\n",
    "    x, y, w, h = cv2.boundingRect(max_contour)\n",
    "    return res[y:y+h, x:x+w]\n",
    "\n",
    "def resize_image(image, target_size=(2500, 2000)):\n",
    "    return cv2.resize(image, target_size)\n",
    "    \n",
    "def match_template(image, template):\n",
    "    result = cv2.matchTemplate(image, template, cv2.TM_CCOEFF)\n",
    "\n",
    "    min_val, max_val, min_loc, max_loc = cv2.minMaxLoc(result)\n",
    "    \n",
    "    h, w = template.shape\n",
    "    top_left = max_loc\n",
    "    bottom_right = (top_left[0]+w, top_left[1]+h)\n",
    "    cv2.rectangle(image, top_left, bottom_right, (0, 255, 0), 2)\n",
    "    return top_left[0], top_left[1]\n",
    "\n",
    "def crop_image(image, coord):\n",
    "    x, y, w, h = coord[0], coord[1], coord[2], coord[3]\n",
    "    return image[y:y+h, x:x+w]\n",
    "\n",
    "def preprocess(image, template):\n",
    "    gray_image = grayscale_conversion(image)\n",
    "    thresh_image = thresholding_conversion(gray_image)\n",
    "    edges = find_edges(thresh_image)\n",
    "    angle = find_angle(edges)\n",
    "    rotated = rotate_image(image, angle)\n",
    "    drug_label = crop_drug_label(rotated)\n",
    "    resize = resize_image(drug_label)\n",
    "    \n",
    "    gray_template_image = grayscale_conversion(template)\n",
    "    thresh_template_image = thresholding_conversion(gray_template_image)\n",
    "    x, y = match_template(resize, thresh_template_image)\n",
    "    \n",
    "    usage_text = crop_image(resize, (x-100, y+500, 2200, 350))\n",
    "    drug_name_text = crop_image(resize, (x-100, y+1300, 2200, 200))\n",
    "    \n",
    "    return usage_text, drug_name_text"
   ]
  },
  {
   "cell_type": "markdown",
   "source": [
    "# OCR"
   ],
   "metadata": {
    "collapsed": false
   },
   "id": "3aac9ea1aded7549"
  },
  {
   "cell_type": "code",
   "outputs": [],
   "source": [
    "import pytesseract as tess\n",
    "def ocr(image, config):\n",
    "    return tess.image_to_string(image, config=config)"
   ],
   "metadata": {
    "collapsed": false,
    "ExecuteTime": {
     "end_time": "2023-12-27T07:07:02.383643Z",
     "start_time": "2023-12-27T07:07:02.378974Z"
    }
   },
   "id": "bd7c55ef6dae6e72",
   "execution_count": 2
  },
  {
   "cell_type": "markdown",
   "source": [
    "# Extract data"
   ],
   "metadata": {
    "collapsed": false
   },
   "id": "84c8c3e04cba25a0"
  },
  {
   "cell_type": "code",
   "outputs": [],
   "source": [
    "import re\n",
    "\n",
    "def clean_text(text):\n",
    "    res = ''\n",
    "    for line in text.splitlines():\n",
    "        if line == '':\n",
    "            continue\n",
    "        res = res + line + ' '\n",
    "    return res.strip()\n",
    "\n",
    "def check_period(text):\n",
    "    keywords = ['เช้า', 'กลางวัน', 'เย็น', 'ก่อนนอน']\n",
    "    res = {'เช้า': False, 'กลางวัน': False, 'เย็น': False, 'ก่อนนอน': False}\n",
    "    period_type = False\n",
    "    \n",
    "    for keyword in keywords:\n",
    "        found = re.search(keyword, text)\n",
    "        if found:\n",
    "            period_type = True\n",
    "            res[keyword] = True\n",
    "    \n",
    "    if period_type:\n",
    "        return res\n",
    "    return None\n",
    "\n",
    "def check_hour(text):\n",
    "    pattern = r'.+ ทุกๆ (\\d+) (.+)'\n",
    "    match = re.search(pattern, text)\n",
    "    \n",
    "    if match is None:\n",
    "        return None\n",
    "    \n",
    "    num = match.group(1)\n",
    "    unit = match.group(2)\n",
    "    return {'num': num, 'unit': unit}\n",
    "\n",
    "def check_frequency(text):\n",
    "    keywords = ['วันเว้นวัน']\n",
    "\n",
    "    for keyword in keywords:\n",
    "        found = re.search(keyword, text)\n",
    "        if found:\n",
    "            return keyword\n",
    "    return None\n",
    "\n",
    "def extract_data(drug_name_text, usage_text):\n",
    "    drug_name = clean_text(drug_name_text)\n",
    "    usage = clean_text(usage_text)\n",
    "    print(drug_name, usage)\n",
    "    res = {'drug_name': drug_name, 'usage': usage, 'notification_type': '', 'notify': [], 'frequency': ''}\n",
    "    \n",
    "    freq = check_frequency(usage)\n",
    "    if freq:\n",
    "        res['frequency'] = freq\n",
    "    \n",
    "    ok = check_period(usage)\n",
    "    if ok:\n",
    "        res['notification_type'] = 'period'\n",
    "        res['notify'] = ok\n",
    "        return res\n",
    "    \n",
    "    ok = check_hour(usage)\n",
    "    if ok:\n",
    "        res['notification_type'] = 'hour'\n",
    "        res['notify'] = ok\n",
    "        return res\n",
    "    return None\n",
    "    "
   ],
   "metadata": {
    "collapsed": false,
    "ExecuteTime": {
     "end_time": "2023-12-27T07:13:13.250833Z",
     "start_time": "2023-12-27T07:13:13.248287Z"
    }
   },
   "id": "d3088329a9ca7eb7",
   "execution_count": 18
  },
  {
   "cell_type": "code",
   "outputs": [
    {
     "data": {
      "text/plain": "<Figure size 550x87.5 with 1 Axes>",
      "image/png": "[encoded data removed]"
     },
     "metadata": {},
     "output_type": "display_data"
    },
    {
     "data": {
      "text/plain": "<Figure size 550x50 with 1 Axes>",
      "image/png": "[encoded data removed]"
     },
     "metadata": {},
     "output_type": "display_data"
    },
    {
     "name": "stdout",
     "output_type": "stream",
     "text": [
      "Phenobarbitone 60 mg. ยารักษาอาการชักะเม็ด รับประทาน ครังละ 1 เม็ด วันละ 2 เวลา ทุกๆ 12 ชั่วโมง\n",
      "{'drug_name': 'Phenobarbitone 60 mg. ยารักษาอาการชักะเม็ด', 'usage': 'รับประทาน ครังละ 1 เม็ด วันละ 2 เวลา ทุกๆ 12 ชั่วโมง', 'notification_type': 'hour', 'notify': {'num': '12', 'unit': 'ชั่วโมง'}, 'frequency': ''}\n"
     ]
    }
   ],
   "source": [
    "image = cv2.imread('./images/img8.JPG')\n",
    "template = cv2.imread('./images/logo.jpg')\n",
    "usage_image, drug_name_image = preprocess(image, template)\n",
    "display(usage_image)\n",
    "display(drug_name_image)\n",
    "\n",
    "usage_text = ocr(usage_image, '--oem 3 --psm 6 -l tha')\n",
    "drug_name_text = ocr(drug_name_image, '--oem 3 --psm 6 -l tha+eng')\n",
    "\n",
    "res = extract_data(drug_name_text, usage_text)\n",
    "print(res)"
   ],
   "metadata": {
    "collapsed": false,
    "ExecuteTime": {
     "end_time": "2023-12-27T07:13:14.550180Z",
     "start_time": "2023-12-27T07:13:13.548704Z"
    }
   },
   "id": "e02f696a3a60020b",
   "execution_count": 19
  },
  {
   "cell_type": "code",
   "outputs": [],
   "source": [],
   "metadata": {
    "collapsed": false,
    "ExecuteTime": {
     "end_time": "2023-12-27T07:08:35.842918Z",
     "start_time": "2023-12-27T07:08:35.835222Z"
    }
   },
   "id": "cc1b1ad4830559d8",
   "execution_count": 9
  },
  {
   "cell_type": "code",
   "outputs": [],
   "source": [],
   "metadata": {
    "collapsed": false
   },
   "id": "cf8656ba623de707"
  }
 ],
 "metadata": {
  "kernelspec": {
   "display_name": "Python 3",
   "language": "python",
   "name": "python3"
  },
  "language_info": {
   "codemirror_mode": {
    "name": "ipython",
    "version": 2
   },
   "file_extension": ".py",
   "mimetype": "text/x-python",
   "name": "python",
   "nbconvert_exporter": "python",
   "pygments_lexer": "ipython2",
   "version": "2.7.6"
  }
 },
 "nbformat": 4,
 "nbformat_minor": 5
}
